{
  "nbformat": 4,
  "nbformat_minor": 0,
  "metadata": {
    "colab": {
      "name": "LR",
      "version": "0.3.2",
      "provenance": []
    },
    "kernelspec": {
      "name": "python3",
      "display_name": "Python 3"
    }
  },
  "cells": [
    {
      "cell_type": "code",
      "metadata": {
        "id": "uQCmlplIa5ZI",
        "colab_type": "code",
        "colab": {}
      },
      "source": [
        "import tensorflow as tf\n",
        "import numpy as np\n",
        "import matplotlib.pyplot as plt"
      ],
      "execution_count": 0,
      "outputs": []
    },
    {
      "cell_type": "code",
      "metadata": {
        "id": "oxYrQEYkbQt8",
        "colab_type": "code",
        "colab": {}
      },
      "source": [
        "a = tf.constant(3.0)\n",
        "b = tf.constant(4.0)"
      ],
      "execution_count": 0,
      "outputs": []
    },
    {
      "cell_type": "code",
      "metadata": {
        "id": "XA8gG2f8baxe",
        "colab_type": "code",
        "outputId": "35859875-e264-494f-ea56-5b9e9f8f4bbf",
        "colab": {
          "base_uri": "https://localhost:8080/",
          "height": 51
        }
      },
      "source": [
        "print(a)\n",
        "print(b)"
      ],
      "execution_count": 3,
      "outputs": [
        {
          "output_type": "stream",
          "text": [
            "Tensor(\"Const:0\", shape=(), dtype=float32)\n",
            "Tensor(\"Const_1:0\", shape=(), dtype=float32)\n"
          ],
          "name": "stdout"
        }
      ]
    },
    {
      "cell_type": "code",
      "metadata": {
        "id": "-Cz_RptwcMZL",
        "colab_type": "code",
        "outputId": "255a9d80-6a82-4df6-a585-2d4d0fd0e2a8",
        "colab": {
          "base_uri": "https://localhost:8080/",
          "height": 34
        }
      },
      "source": [
        "sess =  tf.InteractiveSession()\n",
        "print(sess.run([a,b]))"
      ],
      "execution_count": 4,
      "outputs": [
        {
          "output_type": "stream",
          "text": [
            "[3.0, 4.0]\n"
          ],
          "name": "stdout"
        }
      ]
    },
    {
      "cell_type": "code",
      "metadata": {
        "id": "Nr9s-x03c3b8",
        "colab_type": "code",
        "outputId": "09e9b933-c698-48d9-b373-fe42349ca53b",
        "colab": {
          "base_uri": "https://localhost:8080/",
          "height": 34
        }
      },
      "source": [
        "a = tf.constant(3.0)\n",
        "b = tf.constant(4.0)\n",
        "s = tf.multiply(a,b)\n",
        "print(sess.run(s))"
      ],
      "execution_count": 5,
      "outputs": [
        {
          "output_type": "stream",
          "text": [
            "12.0\n"
          ],
          "name": "stdout"
        }
      ]
    },
    {
      "cell_type": "code",
      "metadata": {
        "id": "Vd2lOA1-dfrD",
        "colab_type": "code",
        "outputId": "ea4e04df-a68e-4b2b-a5a2-a8389eb8b39a",
        "colab": {
          "base_uri": "https://localhost:8080/",
          "height": 34
        }
      },
      "source": [
        "c = tf.constant(2.0)\n",
        "d = tf.constant(3.0)\n",
        "e = tf.constant(8.0)\n",
        "f = tf.constant(6.0)\n",
        "g = tf.constant(4.0)\n",
        "res1 = tf.multiply(e,tf.add(c,d))\n",
        "res2 = tf.multiply(f,tf.add(f,g))\n",
        "res = tf.subtract(res1, res2)\n",
        "print(sess.run(res))\n",
        "\n"
      ],
      "execution_count": 6,
      "outputs": [
        {
          "output_type": "stream",
          "text": [
            "-20.0\n"
          ],
          "name": "stdout"
        }
      ]
    },
    {
      "cell_type": "code",
      "metadata": {
        "id": "K1qtd4D7grN9",
        "colab_type": "code",
        "outputId": "0a2ad5b8-ddd9-4bf0-d2cf-46527a2f2a86",
        "colab": {
          "base_uri": "https://localhost:8080/",
          "height": 34
        }
      },
      "source": [
        "x = tf.placeholder(tf.float32)\n",
        "func = 5*tf.log(x) + tf.exp(x)\n",
        "\n",
        "input_list = list(np.arange(1,10))\n",
        "output_list = [sess.run(func,feed_dict = {x:i}) for i in input_list]\n",
        "print(output_list)"
      ],
      "execution_count": 7,
      "outputs": [
        {
          "output_type": "stream",
          "text": [
            "[2.7182817, 10.854792, 25.578598, 61.52962, 156.46036, 412.3876, 1106.3627, 2991.3552, 8114.0703]\n"
          ],
          "name": "stdout"
        }
      ]
    },
    {
      "cell_type": "code",
      "metadata": {
        "id": "-ayPg2TZhTGy",
        "colab_type": "code",
        "outputId": "b325f826-40a7-4bb8-b970-43243895643c",
        "colab": {
          "base_uri": "https://localhost:8080/",
          "height": 312
        }
      },
      "source": [
        "plt.plot(input_list, output_list)\n",
        "plt.title('function')\n",
        "plt.xlabel('Inputs')\n",
        "plt.ylabel('Outputs')"
      ],
      "execution_count": 8,
      "outputs": [
        {
          "output_type": "execute_result",
          "data": {
            "text/plain": [
              "Text(0, 0.5, 'Outputs')"
            ]
          },
          "metadata": {
            "tags": []
          },
          "execution_count": 8
        },
        {
          "output_type": "display_data",
          "data": {
            "image/png": "[encoded data removed]",
            "text/plain": [
              "<Figure size 432x288 with 1 Axes>"
            ]
          },
          "metadata": {
            "tags": []
          }
        }
      ]
    },
    {
      "cell_type": "code",
      "metadata": {
        "id": "9a6khIVZ8FHo",
        "colab_type": "code",
        "outputId": "0eb1dd90-2c80-4f10-b380-aef064f29206",
        "colab": {
          "base_uri": "https://localhost:8080/",
          "height": 88
        }
      },
      "source": [
        "W = tf.Variable(tf.constant(0.1,shape=[10,1]))\n",
        "x = tf.placeholder(tf.float32, shape=[1,10])\n",
        "mat_mul = tf.matmul(x,W)"
      ],
      "execution_count": 9,
      "outputs": [
        {
          "output_type": "stream",
          "text": [
            "WARNING:tensorflow:From /usr/local/lib/python3.6/dist-packages/tensorflow/python/framework/op_def_library.py:263: colocate_with (from tensorflow.python.framework.ops) is deprecated and will be removed in a future version.\n",
            "Instructions for updating:\n",
            "Colocations handled automatically by placer.\n"
          ],
          "name": "stdout"
        }
      ]
    },
    {
      "cell_type": "code",
      "metadata": {
        "id": "aol5e88U-SpU",
        "colab_type": "code",
        "outputId": "61822a36-b047-47f8-a0d5-3ed40dcd1fa7",
        "colab": {
          "base_uri": "https://localhost:8080/",
          "height": 34
        }
      },
      "source": [
        "data = np.arange(10).reshape((1,10))\n",
        "\n",
        "init = tf.global_variables_initializer()\n",
        "sess.run(init)\n",
        "sess.run(mat_mul, feed_dict = {x:data})"
      ],
      "execution_count": 10,
      "outputs": [
        {
          "output_type": "execute_result",
          "data": {
            "text/plain": [
              "array([[4.5]], dtype=float32)"
            ]
          },
          "metadata": {
            "tags": []
          },
          "execution_count": 10
        }
      ]
    },
    {
      "cell_type": "code",
      "metadata": {
        "id": "Vs1IkSXJiRsE",
        "colab_type": "code",
        "colab": {}
      },
      "source": [
        "from sklearn.datasets import load_boston\n",
        "from sklearn.decomposition import PCA\n",
        "from sklearn.preprocessing import normalize\n",
        "from sklearn.model_selection import train_test_split\n",
        "\n",
        "def get_data():\n",
        "  data, targets = load_boston(True)\n",
        "  data = normalize(data)\n",
        "  targets = targets.reshape((targets.shape[0],1))\n",
        "  X_train, X_test, y_train, y_test = train_test_split(data, targets, test_size = 0.3, random_state = 42)\n",
        "  return X_train, X_test, y_train, y_test"
      ],
      "execution_count": 0,
      "outputs": []
    },
    {
      "cell_type": "code",
      "metadata": {
        "id": "3RlGWC-eKbwM",
        "colab_type": "code",
        "colab": {
          "base_uri": "https://localhost:8080/",
          "height": 34
        },
        "outputId": "04836a4f-c7c9-4f29-8ee1-afdf4cd319ba"
      },
      "source": [
        "X_train, X_test, y_train, y_test = get_data()\n",
        "print(\",\".join([str(t.shape) for t in (X_train, X_test, y_train, y_test)]))"
      ],
      "execution_count": 16,
      "outputs": [
        {
          "output_type": "stream",
          "text": [
            "(354, 13),(152, 13),(354, 1),(152, 1)\n"
          ],
          "name": "stdout"
        }
      ]
    },
    {
      "cell_type": "code",
      "metadata": {
        "id": "V3dTcCbeLrq-",
        "colab_type": "code",
        "colab": {}
      },
      "source": [
        "X = tf.placeholder(tf.float32,shape = [None,13])\n",
        "y = tf.placeholder(tf.float32,shape = [None,1])\n",
        "\n",
        "W = tf.Variable(tf.constant(0.1,shape = [13,1]))\n",
        "b = tf.Variable(tf.constant(0.1))"
      ],
      "execution_count": 0,
      "outputs": []
    },
    {
      "cell_type": "code",
      "metadata": {
        "id": "pRkLG0uYPiq2",
        "colab_type": "code",
        "colab": {}
      },
      "source": [
        "y_pred = tf.matmul(X,W) + b \n",
        "loss = tf.reduce_mean(tf.square(y_pred - y))\n",
        "opt = tf.train.GradientDescentOptimizer(learning_rate = 0.5).minimize(loss)"
      ],
      "execution_count": 0,
      "outputs": []
    },
    {
      "cell_type": "code",
      "metadata": {
        "id": "L6O8pj8QP-Hs",
        "colab_type": "code",
        "colab": {
          "base_uri": "https://localhost:8080/",
          "height": 938
        },
        "outputId": "202a36cf-b639-4dbc-eeab-23942f4d8c69"
      },
      "source": [
        "init = tf.global_variables_initializer()\n",
        "sess = tf.InteractiveSession()\n",
        "sess.run(init)\n",
        "initial_loss = loss.eval(feed_dict = {X:X_train, y : y_train})\n",
        "print(\"initial loss: {}\".format(initial_loss))\n",
        "for i in range(5000):\n",
        "  sess.run(opt, feed_dict = {X: X_train, y:y_train})\n",
        "  if i%100 == 0:\n",
        "    print(\"current loss: {}\".format(loss.eval(feed_dict = {X:X_train, y:y_train})))\n",
        "    "
      ],
      "execution_count": 22,
      "outputs": [
        {
          "output_type": "stream",
          "text": [
            "/usr/local/lib/python3.6/dist-packages/tensorflow/python/client/session.py:1702: UserWarning: An interactive session is already active. This can cause out-of-memory errors in some cases. You must explicitly call `InteractiveSession.close()` to release resources held by the other session(s).\n",
            "  warnings.warn('An interactive session is already active. This can '\n"
          ],
          "name": "stderr"
        },
        {
          "output_type": "stream",
          "text": [
            "initial loss: 605.650634765625\n",
            "current loss: 536.6198120117188\n",
            "current loss: 66.02775573730469\n",
            "current loss: 64.59042358398438\n",
            "current loss: 63.530433654785156\n",
            "current loss: 62.687217712402344\n",
            "current loss: 61.973018646240234\n",
            "current loss: 61.33906555175781\n",
            "current loss: 60.757774353027344\n",
            "current loss: 60.21317672729492\n",
            "current loss: 59.69572448730469\n",
            "current loss: 59.199554443359375\n",
            "current loss: 58.720848083496094\n",
            "current loss: 58.257083892822266\n",
            "current loss: 57.80647659301758\n",
            "current loss: 57.36771011352539\n",
            "current loss: 56.93983840942383\n",
            "current loss: 56.52207946777344\n",
            "current loss: 56.113826751708984\n",
            "current loss: 55.714599609375\n",
            "current loss: 55.323974609375\n",
            "current loss: 54.941612243652344\n",
            "current loss: 54.56718826293945\n",
            "current loss: 54.200469970703125\n",
            "current loss: 53.841190338134766\n",
            "current loss: 53.48914337158203\n",
            "current loss: 53.14414596557617\n",
            "current loss: 52.80601119995117\n",
            "current loss: 52.47457504272461\n",
            "current loss: 52.149662017822266\n",
            "current loss: 51.83114242553711\n",
            "current loss: 51.51885986328125\n",
            "current loss: 51.21269226074219\n",
            "current loss: 50.91249465942383\n",
            "current loss: 50.618141174316406\n",
            "current loss: 50.32952117919922\n",
            "current loss: 50.046504974365234\n",
            "current loss: 49.76897430419922\n",
            "current loss: 49.496822357177734\n",
            "current loss: 49.22993469238281\n",
            "current loss: 48.968204498291016\n",
            "current loss: 48.71152114868164\n",
            "current loss: 48.45979690551758\n",
            "current loss: 48.212913513183594\n",
            "current loss: 47.970787048339844\n",
            "current loss: 47.733314514160156\n",
            "current loss: 47.500396728515625\n",
            "current loss: 47.27195358276367\n",
            "current loss: 47.047889709472656\n",
            "current loss: 46.8281135559082\n",
            "current loss: 46.61254119873047\n"
          ],
          "name": "stdout"
        }
      ]
    },
    {
      "cell_type": "code",
      "metadata": {
        "id": "LZYSoUBKRRN9",
        "colab_type": "code",
        "colab": {
          "base_uri": "https://localhost:8080/",
          "height": 187
        },
        "outputId": "95083dc1-e4f8-42f4-c8c7-75783394be55"
      },
      "source": [
        "data, targets = X_test, y_test\n",
        "predictions = sess.run(y_pred, feed_dict ={X:data})\n",
        "predictions = predictions.flatten()\n",
        "targets = targets.reshape((152))\n",
        "\n",
        "for i in range(10):\n",
        "  randint = np.random.randint(0,152)\n",
        "  pred = predictions[randint]\n",
        "  actual = targets[randint]\n",
        "  print(\"prediction:{},actual:{}\".format(pred,actual))\n",
        "  "
      ],
      "execution_count": 23,
      "outputs": [
        {
          "output_type": "stream",
          "text": [
            "prediction:17.935466766357422,actual:15.7\n",
            "prediction:6.05327033996582,actual:7.0\n",
            "prediction:26.101322174072266,actual:25.0\n",
            "prediction:20.2034969329834,actual:21.2\n",
            "prediction:20.73275375366211,actual:20.0\n",
            "prediction:20.087661743164062,actual:19.3\n",
            "prediction:12.77627182006836,actual:15.6\n",
            "prediction:35.85618209838867,actual:50.0\n",
            "prediction:30.64351463317871,actual:32.4\n",
            "prediction:29.037307739257812,actual:20.9\n"
          ],
          "name": "stdout"
        }
      ]
    }
  ]
}